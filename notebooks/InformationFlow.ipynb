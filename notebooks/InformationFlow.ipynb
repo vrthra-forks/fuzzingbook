{
 "cells": [
  {
   "cell_type": "markdown",
   "metadata": {
    "button": false,
    "new_sheet": false,
    "run_control": {
     "read_only": false
    }
   },
   "source": [
    "# Information Flow\n",
    "\n",
    "In this chapter, we explore in depth how to track information flows in python by tainting input strings, and tracking the taint across string operations."
   ]
  },
  {
   "cell_type": "markdown",
   "metadata": {},
   "source": [
    "Some material on `eval` exploitation is adapted from the excellent [blog post](https://nedbatchelder.com/blog/201206/eval_really_is_dangerous.html) by Ned Batchelder."
   ]
  },
  {
   "cell_type": "markdown",
   "metadata": {
    "button": false,
    "new_sheet": false,
    "run_control": {
     "read_only": false
    }
   },
   "source": [
    "**Prerequisites**\n",
    "\n",
    "* You should have read the [chapter on coverage](Coverage.ipynb).\n",
    "* Some knowledge of inheritance in Python is required."
   ]
  },
  {
   "cell_type": "markdown",
   "metadata": {},
   "source": [
    "We first setup our infrastructure so that we can make use of previously defined functions."
   ]
  },
  {
   "cell_type": "code",
   "execution_count": null,
   "metadata": {},
   "outputs": [],
   "source": [
    "import fuzzingbook_utils"
   ]
  },
  {
   "cell_type": "code",
   "execution_count": null,
   "metadata": {},
   "outputs": [],
   "source": [
    "from ExpectError import ExpectError"
   ]
  },
  {
   "cell_type": "code",
   "execution_count": null,
   "metadata": {},
   "outputs": [],
   "source": [
    "import inspect\n",
    "import enum"
   ]
  },
  {
   "cell_type": "markdown",
   "metadata": {},
   "source": [
    "Say we want to implement a *calculator* service in Python. A rather easy way to do that is to rely on the `eval()` function in Python. However, unrestricted `eval()` can be used by users to execute arbitrary commands. Since we want to restrict our users to using only the *calculator* functionality, and do not want the users to trash our server, we use `eval()` with empty `locals` and `globals` (as recommended [elsewhere](https://www.programiz.com/python-programming/methods/built-in/eval))."
   ]
  },
  {
   "cell_type": "code",
   "execution_count": null,
   "metadata": {},
   "outputs": [],
   "source": [
    "def my_calculator(my_input):\n",
    "    result = eval(my_input, {}, {})\n",
    "    print(\"The result of %s was %d\" % (my_input, result))"
   ]
  },
  {
   "cell_type": "markdown",
   "metadata": {},
   "source": [
    "It works as expected:"
   ]
  },
  {
   "cell_type": "code",
   "execution_count": null,
   "metadata": {},
   "outputs": [],
   "source": [
    "my_calculator('1+2')"
   ]
  },
  {
   "cell_type": "markdown",
   "metadata": {},
   "source": [
    "Does it?"
   ]
  },
  {
   "cell_type": "code",
   "execution_count": null,
   "metadata": {},
   "outputs": [],
   "source": [
    "with ExpectError():\n",
    "    my_calculator('__import__(\"os\").popen(\"ls\").read()')"
   ]
  },
  {
   "cell_type": "markdown",
   "metadata": {},
   "source": [
    "As you can see from the error, `eval()` completed successfully, with the system command `ls` executing successfully. It is easy enough for the user to see the output if needed."
   ]
  },
  {
   "cell_type": "code",
   "execution_count": null,
   "metadata": {},
   "outputs": [],
   "source": [
    "my_calculator(\n",
    "    \"1 if __builtins__['print'](__import__('os').popen('pwd').read()) else 0\")"
   ]
  },
  {
   "cell_type": "markdown",
   "metadata": {},
   "source": [
    "The problem is that the Python `__builtins__` is [inserted by default](https://docs.python.org/3/library/functions.html#eval) when one uses `eval()`. We can avoid this by restricting `__builtins__` in `eval` explicitly (again as recommended [elsewhere](http://lybniz2.sourceforge.net/safeeval.html))."
   ]
  },
  {
   "cell_type": "code",
   "execution_count": null,
   "metadata": {},
   "outputs": [],
   "source": [
    "def my_calculator(my_input):\n",
    "    result = eval(my_input, {\"__builtins__\": None}, {})\n",
    "    print(\"The result of %s was %d\" % (my_input, result))"
   ]
  },
  {
   "cell_type": "markdown",
   "metadata": {},
   "source": [
    "Does it help?"
   ]
  },
  {
   "cell_type": "code",
   "execution_count": null,
   "metadata": {},
   "outputs": [],
   "source": [
    "with ExpectError():\n",
    "    my_calculator(\n",
    "        \"1 if __builtins__['print'](__import__('os').popen('pwd').read()) else 0\")"
   ]
  },
  {
   "cell_type": "markdown",
   "metadata": {},
   "source": [
    "But does it actually?"
   ]
  },
  {
   "cell_type": "code",
   "execution_count": null,
   "metadata": {},
   "outputs": [],
   "source": [
    "my_calculator(\"1 if [x['print'](x['__import__']('os').popen('pwd').read()) for x in ([x for x in (1).__class__.__base__.__subclasses__() if x.__name__ == 'Sized'][0].__len__.__globals__['__builtins__'],)] else 0\")"
   ]
  },
  {
   "cell_type": "markdown",
   "metadata": {},
   "source": [
    "The problem here is that when the user has a way to inject **uninterpreted strings** that can reach a dangerous routine such as  `eval()` or an `exec()`, it makes it possible for them to inject dangerous code. What we need is a way to restrict the ability of uninterpreted input string fragments from reaching dangerous portions of code."
   ]
  },
  {
   "cell_type": "markdown",
   "metadata": {
    "button": false,
    "new_sheet": true,
    "run_control": {
     "read_only": false
    }
   },
   "source": [
    "## A Simple Taint Tracker"
   ]
  },
  {
   "cell_type": "markdown",
   "metadata": {},
   "source": [
    "For capturing information flows we need a new string class. The idea is to use the new tainted string class `tstr` as a wrapper on the original `str` class. However, `str` is an *immutable* class. Hence, it does not call its `__init__` method after being constructed. This means that any subclasses of `str` also will not get the `__init__` called. If we want to get our initialization routine called, we need to [hook into `__new__`](https://docs.python.org/3/reference/datamodel.html#basic-customization) and return an instance of our own class.\n",
    "\n",
    "We need to write the `__new__()` method because we want to track the parent object responsible for the taint during our initialization `tstr.__init__()`. Hence, we define a class `tstr_` that subclasses `str`, and enables its subclasses to initialize using `__init__()`."
   ]
  },
  {
   "cell_type": "code",
   "execution_count": null,
   "metadata": {},
   "outputs": [],
   "source": [
    "class tstr_(str):\n",
    "    def __new__(cls, value, *args, **kw):\n",
    "        return super(tstr_, cls).__new__(cls, value)"
   ]
  },
  {
   "cell_type": "markdown",
   "metadata": {},
   "source": [
    "There are various levels of taint tracking that one can perform. The simplest is to track that a string fragment originated in an untrusted environment, and has not undergone a taint removal process. For this, we simply need to wrap the original string in the untrusted environment with `tstr`, and produce `tstr` instances on each operation that results in another string frament. Distinguishing various untrusted sources may be accomplished by tainting each instances as separate instances (called *colors* in dynamic taint research). You will see an instance of this technique in the chapter on [Grammar Mining](GrammarMiner.ipynb).\n",
    "\n",
    "In this chapter, we carry *character level* taints. That is, given a fragment that resulted from a portion of the original tainted string, one will be able to tell which portion of the input string the fragment was taken from. In essence, each input character index from a tainted source gets its own color.\n",
    "\n",
    "More complex tainting such as *bitmap taints* are possible where a single character may result from multiple tainted character indexes (such as *checksum* operations on strings). We do not consider these in this chapter."
   ]
  },
  {
   "cell_type": "markdown",
   "metadata": {},
   "source": [
    "We now define our initialization code in `__init__()`."
   ]
  },
  {
   "cell_type": "markdown",
   "metadata": {},
   "source": [
    "The variable `taint` contains non-overlapping taints mapped to the original string. The variable `parent` holds a reference to the `tstr` instance from which this instance was derived."
   ]
  },
  {
   "cell_type": "code",
   "execution_count": null,
   "metadata": {},
   "outputs": [],
   "source": [
    "class tstr(tstr_):\n",
    "    def __init__(self, value, taint=None, parent=None, **kwargs):\n",
    "        self.parent = parent\n",
    "        l = len(self)\n",
    "        if taint is None:\n",
    "            taint = 0\n",
    "        self.taint = list(range(taint, taint + l)) if isinstance(\n",
    "            taint, int) else taint\n",
    "        assert len(self.taint) == l\n",
    "\n",
    "    def __repr__(self):\n",
    "        return self\n",
    "\n",
    "    def __str__(self):\n",
    "        return str.__str__(self)"
   ]
  },
  {
   "cell_type": "markdown",
   "metadata": {},
   "source": [
    "For example, if we wrap `hello` in `tstr`, then we should be able to access its taint in indices `0..4`"
   ]
  },
  {
   "cell_type": "code",
   "execution_count": null,
   "metadata": {},
   "outputs": [],
   "source": [
    "thello = tstr('hello')\n",
    "assert thello.taint == [0, 1, 2, 3, 4]"
   ]
  },
  {
   "cell_type": "markdown",
   "metadata": {},
   "source": [
    "We can also specify the starting taint as below -- `6..10`"
   ]
  },
  {
   "cell_type": "code",
   "execution_count": null,
   "metadata": {},
   "outputs": [],
   "source": [
    "tworld = tstr('world', taint=6)\n",
    "assert tworld.taint == [6, 7, 8, 9, 10]"
   ]
  },
  {
   "cell_type": "markdown",
   "metadata": {},
   "source": [
    "`str()` returns an untainted `str` instance."
   ]
  },
  {
   "cell_type": "code",
   "execution_count": null,
   "metadata": {},
   "outputs": [],
   "source": [
    "assert type(str(thello)) == str"
   ]
  },
  {
   "cell_type": "markdown",
   "metadata": {},
   "source": [
    "However, `repr()` returns a tainted representation of the object."
   ]
  },
  {
   "cell_type": "code",
   "execution_count": null,
   "metadata": {},
   "outputs": [],
   "source": [
    "assert type(repr(thello)) == type(thello)"
   ]
  },
  {
   "cell_type": "markdown",
   "metadata": {},
   "source": [
    "By default, when we wrap a string, it is tainted. Hence we also need a way to `untaint` the string. One way is to simply return a `str` instance as above. However, one may sometimes wish to remove taint from an existing instance. This is accomplished with `untaint()`. During `untaint()`, we simply set the taint indexes to `-1`. This method comes with a pair method `has_taint()` which checks whether a `tstr` instance is currently tainted."
   ]
  },
  {
   "cell_type": "code",
   "execution_count": null,
   "metadata": {},
   "outputs": [],
   "source": [
    "class tstr(tstr):\n",
    "    def untaint(self):\n",
    "        self.taint = [None] * len(self)\n",
    "        return self\n",
    "\n",
    "    def has_taint(self):\n",
    "        return any(True for i in self.taint if i is not None)\n",
    "\n",
    "    def taint_in(self, gsentence):\n",
    "        return set(self.taint) <= set(gsentence.taint)"
   ]
  },
  {
   "cell_type": "code",
   "execution_count": null,
   "metadata": {},
   "outputs": [],
   "source": [
    "thw = tstr('hello world')\n",
    "thw.untaint()\n",
    "assert not thw.has_taint()"
   ]
  },
  {
   "cell_type": "markdown",
   "metadata": {},
   "source": [
    "While the basic tainted string creation works, we have not completed the taint transition. For example, getting a substring does not transfer taint from the original string."
   ]
  },
  {
   "cell_type": "code",
   "execution_count": null,
   "metadata": {},
   "outputs": [],
   "source": [
    "with ExpectError():\n",
    "    t = tstr('hello world')\n",
    "    t[0:5].has_taint()"
   ]
  },
  {
   "cell_type": "markdown",
   "metadata": {},
   "source": [
    "In Python, the substring as shown above is implemented using `slice`. We implement this next."
   ]
  },
  {
   "cell_type": "markdown",
   "metadata": {},
   "source": [
    "### Create"
   ]
  },
  {
   "cell_type": "markdown",
   "metadata": {},
   "source": [
    "We need to create new substrings that are wrapped in `tstr`. However, we also want to allow our subclasses to create their own instances. Hence we provide a `create()` method that produces a new `tstr` instance."
   ]
  },
  {
   "cell_type": "code",
   "execution_count": null,
   "metadata": {},
   "outputs": [],
   "source": [
    "class tstr(tstr):\n",
    "    def create(self, res, taint):\n",
    "        return tstr(res, taint, self)"
   ]
  },
  {
   "cell_type": "code",
   "execution_count": null,
   "metadata": {},
   "outputs": [],
   "source": [
    "thello = tstr('hello')\n",
    "tworld = thello.create('world', 6)\n",
    "assert (tworld.parent.taint, tworld.taint) == (\n",
    "    [0, 1, 2, 3, 4], [6, 7, 8, 9, 10])"
   ]
  },
  {
   "cell_type": "markdown",
   "metadata": {},
   "source": [
    "### Index"
   ]
  },
  {
   "cell_type": "markdown",
   "metadata": {},
   "source": [
    "In Python, indexing is provided through `__getitem__()`. Indexing on positive integers is simple enough. However, it has two additional wrinkles. The first is that, if the index is negative, that many characters are counted from the end of the string which lies just after the last character. That is, the last character has a negative index `-1`"
   ]
  },
  {
   "cell_type": "code",
   "execution_count": null,
   "metadata": {},
   "outputs": [],
   "source": [
    "class tstr(tstr):\n",
    "    def __getitem__(self, key):\n",
    "        res = super().__getitem__(key)\n",
    "        if isinstance(key, int):\n",
    "            key = len(self) + key if key < 0 else key\n",
    "            return self.create(res, [self.taint[key]])\n",
    "        elif isinstance(key, slice):\n",
    "            return self.create(res, self.taint[key])\n",
    "        else:\n",
    "            assert False"
   ]
  },
  {
   "cell_type": "code",
   "execution_count": null,
   "metadata": {},
   "outputs": [],
   "source": [
    "hello = tstr('hello')\n",
    "assert (hello[0], hello[-1]) == ('h', 'o')"
   ]
  },
  {
   "cell_type": "markdown",
   "metadata": {},
   "source": [
    "The other wrinkle is that `__getitem__()` can accept a slice. We discuss this next."
   ]
  },
  {
   "cell_type": "markdown",
   "metadata": {},
   "source": [
    "### Slice"
   ]
  },
  {
   "cell_type": "markdown",
   "metadata": {},
   "source": [
    "The Python `slice` operator `[n:m]` relies on the object being an `iterator`. Hence, we define the `__iter__()` method, which returns a custom `iterator`."
   ]
  },
  {
   "cell_type": "code",
   "execution_count": null,
   "metadata": {},
   "outputs": [],
   "source": [
    "class tstr(tstr):\n",
    "    def __iter__(self):\n",
    "        return tstr_iterator(self)"
   ]
  },
  {
   "cell_type": "markdown",
   "metadata": {},
   "source": [
    "#### The iterator class\n",
    "The `__iter__()` method requires a supporting `iterator` object. The `iterator` is used to save the state of the current iteration, which it does by keeping a reference to the original `tstr`, and the current index of iteration `_str_idx`."
   ]
  },
  {
   "cell_type": "code",
   "execution_count": null,
   "metadata": {},
   "outputs": [],
   "source": [
    "class tstr_iterator():\n",
    "    def __init__(self, tstr):\n",
    "        self._tstr = tstr\n",
    "        self._str_idx = 0\n",
    "\n",
    "    def __next__(self):\n",
    "        if self._str_idx == len(self._tstr):\n",
    "            raise StopIteration\n",
    "        # calls tstr getitem should be tstr\n",
    "        c = self._tstr[self._str_idx]\n",
    "        assert isinstance(c, tstr)\n",
    "        self._str_idx += 1\n",
    "        return c"
   ]
  },
  {
   "cell_type": "markdown",
   "metadata": {},
   "source": [
    "Bringing all these together:"
   ]
  },
  {
   "cell_type": "code",
   "execution_count": null,
   "metadata": {},
   "outputs": [],
   "source": [
    "thw = tstr('hello world')\n",
    "assert thw[0:5].has_taint()"
   ]
  },
  {
   "cell_type": "markdown",
   "metadata": {},
   "source": [
    "### Concatenation"
   ]
  },
  {
   "cell_type": "markdown",
   "metadata": {},
   "source": [
    "If two tainted strings are concatenated together, it may be desirable to transer the taints from each to the corresponding portion of the resulting string. The concatenation of strings is accomplished by overriding `__add__()`."
   ]
  },
  {
   "cell_type": "code",
   "execution_count": null,
   "metadata": {},
   "outputs": [],
   "source": [
    "class tstr(tstr):\n",
    "    def __add__(self, other):\n",
    "        if isinstance(other, tstr):\n",
    "            return self.create(str.__add__(self, other),\n",
    "                               (self.taint + other.taint))\n",
    "        else:\n",
    "            return self.create(str.__add__(self, other),\n",
    "                               (self.taint + [-1 for i in other]))"
   ]
  },
  {
   "cell_type": "markdown",
   "metadata": {},
   "source": [
    "Testing concatenations between two `tstr` instances:"
   ]
  },
  {
   "cell_type": "code",
   "execution_count": null,
   "metadata": {},
   "outputs": [],
   "source": [
    "thello = tstr(\"hello\")\n",
    "tworld = tstr(\"world\", taint=6)\n",
    "thw = thello + tworld\n",
    "assert thw.taint == [0, 1, 2, 3, 4, 6, 7, 8, 9, 10]"
   ]
  },
  {
   "cell_type": "markdown",
   "metadata": {},
   "source": [
    "What if a `tstr` is concatenated with a `str`?"
   ]
  },
  {
   "cell_type": "code",
   "execution_count": null,
   "metadata": {},
   "outputs": [],
   "source": [
    "space = \"  \"\n",
    "th_w = thello + space + tworld\n",
    "assert th_w.taint == [0, 1, 2, 3, 4, -1, -1, 6, 7, 8, 9, 10]"
   ]
  },
  {
   "cell_type": "markdown",
   "metadata": {},
   "source": [
    "One wrinkle here is that when adding a `tstr` and a `str`, the user may place the `str` first, in which case, the `__add__()` method will be called on the `str` instance. Not on the `tstr` instance. However, Python provides a solution. If one defines `__radd__()` on the `tstr` instance, that method will be called rather than `str.__add__()`"
   ]
  },
  {
   "cell_type": "code",
   "execution_count": null,
   "metadata": {},
   "outputs": [],
   "source": [
    "class tstr(tstr):\n",
    "    def __radd__(self, other):\n",
    "        taint = other.taint if isinstance(other, tstr) else [\n",
    "            None for i in other]\n",
    "        return self.create(str.__add__(other, self), (taint + self.taint))"
   ]
  },
  {
   "cell_type": "markdown",
   "metadata": {},
   "source": [
    "We test it out:"
   ]
  },
  {
   "cell_type": "code",
   "execution_count": null,
   "metadata": {},
   "outputs": [],
   "source": [
    "shello = \"hello\"\n",
    "tworld = tstr(\"world\")\n",
    "thw = shello + tworld\n",
    "assert thw.taint == [None, None, None, None, None, 0, 1, 2, 3, 4]"
   ]
  },
  {
   "cell_type": "markdown",
   "metadata": {},
   "source": [
    "These methods: `slicing` and `concatenation` is sufficient to implement other string methods that result in a string, and does not change the character underneath (i.e no case change). Hence, we look at a helper method next."
   ]
  },
  {
   "cell_type": "markdown",
   "metadata": {},
   "source": [
    "### Extract tainted string."
   ]
  },
  {
   "cell_type": "markdown",
   "metadata": {},
   "source": [
    "Given a specific input index, the method `x()` extracts the corresponding tainted portion from a `tstr`. As a convenience it supports `slices` along with `ints`."
   ]
  },
  {
   "cell_type": "code",
   "execution_count": null,
   "metadata": {},
   "outputs": [],
   "source": [
    "class tstr(tstr):\n",
    "    class TaintException(Exception):\n",
    "        pass\n",
    "\n",
    "    def x(self, i=0):\n",
    "        if not self.taint:\n",
    "            raise taint.TaintException('Invalid request idx')\n",
    "        if isinstance(i, int):\n",
    "            return [self[p]\n",
    "                    for p in [k for k, j in enumerate(self.taint) if j == i]]\n",
    "        elif isinstance(i, slice):\n",
    "            r = range(i.start or 0, i.stop or len(self), i.step or 1)\n",
    "            return [self[p]\n",
    "                    for p in [k for k, j in enumerate(self.taint) if j in r]]"
   ]
  },
  {
   "cell_type": "code",
   "execution_count": null,
   "metadata": {},
   "outputs": [],
   "source": [
    "thw = tstr('hello world', taint=100)"
   ]
  },
  {
   "cell_type": "code",
   "execution_count": null,
   "metadata": {},
   "outputs": [],
   "source": [
    "assert thw.x(101) == ['e']"
   ]
  },
  {
   "cell_type": "code",
   "execution_count": null,
   "metadata": {},
   "outputs": [],
   "source": [
    "assert thw.x(slice(101, 105)) == ['e', 'l', 'l', 'o']"
   ]
  },
  {
   "cell_type": "markdown",
   "metadata": {},
   "source": [
    "### Replace"
   ]
  },
  {
   "cell_type": "markdown",
   "metadata": {},
   "source": [
    "The `replace()` method replaces a portion of the string with another."
   ]
  },
  {
   "cell_type": "code",
   "execution_count": null,
   "metadata": {},
   "outputs": [],
   "source": [
    "class tstr(tstr):\n",
    "    def replace(self, a, b, n=None):\n",
    "        old_taint = self.taint\n",
    "        b_taint = b.taint if isinstance(b, tstr) else [None] * len(b)\n",
    "        mystr = str(self)\n",
    "        i = 0\n",
    "        while True:\n",
    "            if n and i >= n:\n",
    "                break\n",
    "            idx = mystr.find(a)\n",
    "            if idx == -1:\n",
    "                break\n",
    "            last = idx + len(a)\n",
    "            mystr = mystr.replace(a, b, 1)\n",
    "            partA, partB = old_taint[0:idx], old_taint[last:]\n",
    "            old_taint = partA + b_taint + partB\n",
    "            i += 1\n",
    "        return self.create(mystr, old_taint)"
   ]
  },
  {
   "cell_type": "code",
   "execution_count": null,
   "metadata": {},
   "outputs": [],
   "source": [
    "my_str = tstr(\"aa cde aa\")\n",
    "res = my_str.replace('aa', 'bb')\n",
    "assert res, res.taint == ('bb', 'cde', 'bb',\n",
    "                          [None, None, 2, 3, 4, 5, 6, None, None])"
   ]
  },
  {
   "cell_type": "code",
   "execution_count": null,
   "metadata": {},
   "outputs": [],
   "source": [
    "my_str = tstr(\"aa cde aa\")\n",
    "res = my_str.replace('aa', tstr('bb', taint=100))\n",
    "assert (res, res.taint) == (('bb cde bb'), [100, 101, 2, 3, 4, 5, 6, 100, 101])"
   ]
  },
  {
   "cell_type": "markdown",
   "metadata": {},
   "source": [
    "### Split"
   ]
  },
  {
   "cell_type": "markdown",
   "metadata": {},
   "source": [
    "We essentially have to re-implement split operations, and split by space is slightly different from other splits."
   ]
  },
  {
   "cell_type": "code",
   "execution_count": null,
   "metadata": {},
   "outputs": [],
   "source": [
    "class tstr(tstr):\n",
    "    def _split_helper(self, sep, splitted):\n",
    "        result_list = []\n",
    "        last_idx = 0\n",
    "        first_idx = 0\n",
    "        sep_len = len(sep)\n",
    "\n",
    "        for s in splitted:\n",
    "            last_idx = first_idx + len(s)\n",
    "            item = self[first_idx:last_idx]\n",
    "            result_list.append(item)\n",
    "            first_idx = last_idx + sep_len\n",
    "        return result_list\n",
    "\n",
    "    def _split_space(self, splitted):\n",
    "        result_list = []\n",
    "        last_idx = 0\n",
    "        first_idx = 0\n",
    "        sep_len = 0\n",
    "        for s in splitted:\n",
    "            last_idx = first_idx + len(s)\n",
    "            item = self[first_idx:last_idx]\n",
    "            result_list.append(item)\n",
    "            v = str(self[last_idx:])\n",
    "            sep_len = len(v) - len(v.lstrip(' '))\n",
    "            first_idx = last_idx + sep_len\n",
    "        return result_list\n",
    "\n",
    "    def rsplit(self, sep=None, maxsplit=-1):\n",
    "        splitted = super().rsplit(sep, maxsplit)\n",
    "        if not sep:\n",
    "            return self._split_space(splitted)\n",
    "        return self._split_helper(sep, splitted)\n",
    "\n",
    "    def split(self, sep=None, maxsplit=-1):\n",
    "        splitted = super().split(sep, maxsplit)\n",
    "        if not sep:\n",
    "            return self._split_space(splitted)\n",
    "        return self._split_helper(sep, splitted)"
   ]
  },
  {
   "cell_type": "code",
   "execution_count": null,
   "metadata": {},
   "outputs": [],
   "source": [
    "my_str = tstr('ab cdef ghij kl')\n",
    "ab, cdef, ghij, kl = my_str.rsplit(sep=' ')\n",
    "assert (ab.taint, cdef.taint, ghij.taint,\n",
    "        kl.taint) == ([0, 1], [3, 4, 5, 6], [8, 9, 10, 11], [13, 14])\n",
    "\n",
    "my_str = tstr('ab cdef ghij kl', taint=list(range(0, 15)))\n",
    "ab, cdef, ghij, kl = my_str.rsplit(sep=' ')\n",
    "assert(ab.taint, cdef.taint, kl.taint) == ([0, 1], [3, 4, 5, 6], [13, 14])"
   ]
  },
  {
   "cell_type": "code",
   "execution_count": null,
   "metadata": {},
   "outputs": [],
   "source": [
    "my_str = tstr('ab   cdef ghij    kl', taint=100)\n",
    "ab, cdef, ghij, kl = my_str.rsplit()\n",
    "assert (ab.taint, cdef.taint, ghij.taint,\n",
    "        kl.taint) == ([100, 101], [105, 106, 107, 108], [110, 111, 112, 113],\n",
    "                      [118, 119])\n",
    "\n",
    "my_str = tstr('ab   cdef ghij    kl', taint=list(range(0, 20)))\n",
    "ab, cdef, ghij, kl = my_str.split()\n",
    "assert (ab.taint, cdef.taint, kl.taint) == ([0, 1], [5, 6, 7, 8], [18, 19])"
   ]
  },
  {
   "cell_type": "markdown",
   "metadata": {},
   "source": [
    "### Strip"
   ]
  },
  {
   "cell_type": "code",
   "execution_count": null,
   "metadata": {},
   "outputs": [],
   "source": [
    "class tstr(tstr):\n",
    "    def strip(self, cl=None):\n",
    "        return self.lstrip(cl).rstrip(cl)\n",
    "\n",
    "    def lstrip(self, cl=None):\n",
    "        res = super().lstrip(cl)\n",
    "        i = self.find(res)\n",
    "        return self[i:]\n",
    "\n",
    "    def rstrip(self, cl=None):\n",
    "        res = super().rstrip(cl)\n",
    "        return self[0:len(res)]\n"
   ]
  },
  {
   "cell_type": "code",
   "execution_count": null,
   "metadata": {},
   "outputs": [],
   "source": [
    "my_str1 = tstr(\"  abc  \")\n",
    "v = my_str1.strip()\n",
    "assert v, v.taint == ('abc', [2, 3, 4])"
   ]
  },
  {
   "cell_type": "code",
   "execution_count": null,
   "metadata": {},
   "outputs": [],
   "source": [
    "my_str1 = tstr(\"  abc  \")\n",
    "v = my_str1.lstrip()\n",
    "assert (v, v.taint) == ('abc  ', [2, 3, 4, 5, 6])"
   ]
  },
  {
   "cell_type": "code",
   "execution_count": null,
   "metadata": {},
   "outputs": [],
   "source": [
    "my_str1 = tstr(\"  abc  \")\n",
    "v = my_str1.rstrip()\n",
    "assert (v, v.taint) == ('  abc', [0, 1, 2, 3, 4])"
   ]
  },
  {
   "cell_type": "markdown",
   "metadata": {},
   "source": [
    "### Expand Tabs"
   ]
  },
  {
   "cell_type": "code",
   "execution_count": null,
   "metadata": {},
   "outputs": [],
   "source": [
    "class tstr(tstr):\n",
    "    def expandtabs(self, n=8):\n",
    "        parts = self.split('\\t')\n",
    "        res = super().expandtabs(n)\n",
    "        all_parts = []\n",
    "        for i, p in enumerate(parts):\n",
    "            all_parts.extend(p.taint)\n",
    "            if i < len(parts) - 1:\n",
    "                l = len(all_parts) % n\n",
    "                all_parts.extend([p.taint[-1]] * l)\n",
    "        return self.create(res, all_parts)"
   ]
  },
  {
   "cell_type": "code",
   "execution_count": null,
   "metadata": {},
   "outputs": [],
   "source": [
    "my_str = str(\"ab\\tcd\")\n",
    "my_tstr = tstr(\"ab\\tcd\")\n",
    "v1 = my_str.expandtabs(4)\n",
    "v2 = my_tstr.expandtabs(4)\n",
    "assert str(v1) == str(v2)\n",
    "assert (len(v1), repr(v2), v2.taint) == (6, 'ab  cd', [0, 1, 1, 1, 3, 4])"
   ]
  },
  {
   "cell_type": "code",
   "execution_count": null,
   "metadata": {},
   "outputs": [],
   "source": [
    "class tstr(tstr):\n",
    "    def join(self, iterable):\n",
    "        mystr = ''\n",
    "        mytaint = []\n",
    "        sep_taint = self.taint\n",
    "        lst = list(iterable)\n",
    "        for i, s in enumerate(lst):\n",
    "            staint = s.taint if isinstance(s, tstr) else [None] * len(s)\n",
    "            mytaint.extend(staint)\n",
    "            mystr += str(s)\n",
    "            if i < len(lst) - 1:\n",
    "                mytaint.extend(sep_taint)\n",
    "                mystr += str(self)\n",
    "        res = super().join(iterable)\n",
    "        assert len(res) == len(mystr)\n",
    "        return self.create(res, mytaint)"
   ]
  },
  {
   "cell_type": "code",
   "execution_count": null,
   "metadata": {},
   "outputs": [],
   "source": [
    "my_str = tstr(\"ab cd\", taint=100)\n",
    "(v1, v2), v3 = my_str.split(), 'ef'\n",
    "assert (v1.taint, v2.taint) == ([100, 101], [103, 104])\n",
    "v4 = tstr('').join([v2, v3, v1])\n",
    "assert (v4, v4.taint) == ('cdefab', [103, 104, None, None, 100, 101])"
   ]
  },
  {
   "cell_type": "code",
   "execution_count": null,
   "metadata": {},
   "outputs": [],
   "source": [
    "my_str = tstr(\"ab cd\", taint=100)\n",
    "(v1, v2), v3 = my_str.split(), 'ef'\n",
    "assert (v1.taint, v2.taint) == ([100, 101], [103, 104])\n",
    "v4 = tstr(',').join([v2, v3, v1])\n",
    "assert (v4, v4.taint) == ('cd,ef,ab', [103, 104, 0, None, None, 0, 100, 101])"
   ]
  },
  {
   "cell_type": "markdown",
   "metadata": {},
   "source": [
    "### Partitions"
   ]
  },
  {
   "cell_type": "code",
   "execution_count": null,
   "metadata": {},
   "outputs": [],
   "source": [
    "class tstr(tstr):\n",
    "    def partition(self, sep):\n",
    "        partA, sep, partB = super().partition(sep)\n",
    "        return (self.create(partA, self.taint[0:len(partA)]),\n",
    "                self.create(sep, self.taint[len(partA):len(partA) + len(sep)]),\n",
    "                self.create(partB, self.taint[len(partA) + len(sep):]))\n",
    "\n",
    "    def rpartition(self, sep):\n",
    "        partA, sep, partB = super().rpartition(sep)\n",
    "        return (self.create(partA, self.taint[0:len(partA)]),\n",
    "                self.create(sep, self.taint[len(partA):len(partA) + len(sep)]),\n",
    "                self.create(partB, self.taint[len(partA) + len(sep):]))"
   ]
  },
  {
   "cell_type": "markdown",
   "metadata": {},
   "source": [
    "### Justify"
   ]
  },
  {
   "cell_type": "code",
   "execution_count": null,
   "metadata": {},
   "outputs": [],
   "source": [
    "class tstr(tstr):\n",
    "    def ljust(self, width, fillchar=' '):\n",
    "        res = super().ljust(width, fillchar)\n",
    "        initial = len(res) - len(self)\n",
    "        if isinstance(fillchar, tstr):\n",
    "            t = fillchar.x()\n",
    "        else:\n",
    "            t = -1\n",
    "        return self.create(res, [t] * initial + self.taint)\n",
    "\n",
    "    def rjust(self, width, fillchar=' '):\n",
    "        res = super().rjust(width, fillchar)\n",
    "        final = len(res) - len(self)\n",
    "        if isinstance(fillchar, tstr):\n",
    "            t = fillchar.x()\n",
    "        else:\n",
    "            t = -1\n",
    "        return self.create(res, self.taint + [t] * final)"
   ]
  },
  {
   "cell_type": "markdown",
   "metadata": {},
   "source": [
    "### String methods that do not change taint"
   ]
  },
  {
   "cell_type": "code",
   "execution_count": null,
   "metadata": {},
   "outputs": [],
   "source": [
    "class tstr(tstr):\n",
    "    def swapcase(self):\n",
    "        return self.create(str(self).swapcase(), self.taint)\n",
    "\n",
    "    def upper(self):\n",
    "        return self.create(str(self).upper(), self.taint)\n",
    "\n",
    "    def lower(self):\n",
    "        return self.create(str(self).lower(), self.taint)\n",
    "\n",
    "    def capitalize(self):\n",
    "        return self.create(str(self).capitalize(), self.taint)\n",
    "\n",
    "    def title(self):\n",
    "        return self.create(str(self).title(), self.taint)"
   ]
  },
  {
   "cell_type": "code",
   "execution_count": null,
   "metadata": {},
   "outputs": [],
   "source": [
    "a = tstr('aa', taint=100).upper()\n",
    "a, a.taint"
   ]
  },
  {
   "cell_type": "code",
   "execution_count": null,
   "metadata": {},
   "outputs": [],
   "source": [
    "def taint_include(gword, gsentence):\n",
    "    return set(gword.taint) <= set(gsentence.taint)"
   ]
  },
  {
   "cell_type": "markdown",
   "metadata": {},
   "source": [
    "### General wrappers"
   ]
  },
  {
   "cell_type": "markdown",
   "metadata": {},
   "source": [
    "These are not strictly needed for operation, but can be useful for tracing"
   ]
  },
  {
   "cell_type": "code",
   "execution_count": null,
   "metadata": {},
   "outputs": [],
   "source": [
    "def make_str_wrapper(fun):\n",
    "    def proxy(*args, **kwargs):\n",
    "        res = fun(*args, **kwargs)\n",
    "        return res\n",
    "    return proxy"
   ]
  },
  {
   "cell_type": "code",
   "execution_count": null,
   "metadata": {},
   "outputs": [],
   "source": [
    "import types\n",
    "tstr_members = [name for name, fn in inspect.getmembers(tstr, callable)\n",
    "                if isinstance(fn, types.FunctionType) and fn.__qualname__.startswith('tstr')]\n",
    "\n",
    "for name, fn in inspect.getmembers(str, callable):\n",
    "    if name not in set(['__class__', '__new__', '__str__', '__init__',\n",
    "                        '__repr__', '__getattribute__']) | set(tstr_members):\n",
    "        setattr(tstr, name, make_str_wrapper(fn))"
   ]
  },
  {
   "cell_type": "markdown",
   "metadata": {},
   "source": [
    "### Methods yet to be translated"
   ]
  },
  {
   "cell_type": "markdown",
   "metadata": {},
   "source": [
    "These methods generate strings from other strings. However, we do not have the right implementations for any of these. Hence these are marked as dangerous until we can generate the right translations."
   ]
  },
  {
   "cell_type": "code",
   "execution_count": null,
   "metadata": {
    "code_folding": []
   },
   "outputs": [],
   "source": [
    "def make_str_abort_wrapper(fun):\n",
    "    def proxy(*args, **kwargs):\n",
    "        raise tstr.TaintException('%s Not implemented in TSTR' % fun.__name__)\n",
    "    return proxy"
   ]
  },
  {
   "cell_type": "code",
   "execution_count": null,
   "metadata": {
    "code_folding": []
   },
   "outputs": [],
   "source": [
    "for name, fn in inspect.getmembers(str, callable):\n",
    "    if name in ['__format__', '__rmod__', '__mod__', 'format_map', 'format',\n",
    "                '__mul__', '__rmul__', 'center', 'zfill', 'decode', 'encode', 'splitlines']:\n",
    "        setattr(tstr, name, make_str_abort_wrapper(fn))"
   ]
  },
  {
   "cell_type": "markdown",
   "metadata": {},
   "source": [
    "## EOF Tracker"
   ]
  },
  {
   "cell_type": "markdown",
   "metadata": {},
   "source": [
    "Sometimes we want to know where an empty string came from. That is, if an empty string is the result of operations on a tainted string, we want to know the best guess as to what the taint index of the preceding character is."
   ]
  },
  {
   "cell_type": "markdown",
   "metadata": {},
   "source": [
    "### Slice"
   ]
  },
  {
   "cell_type": "markdown",
   "metadata": {},
   "source": [
    "\n",
    "For detecting EOF, we need to carry the cursor. The main idea is the cursor indicates the taint of the character in front of it."
   ]
  },
  {
   "cell_type": "code",
   "execution_count": null,
   "metadata": {},
   "outputs": [],
   "source": [
    "class eoftstr(tstr):\n",
    "    def create(self, res, taint):\n",
    "        return eoftstr(res, taint, self)\n",
    "\n",
    "    def __getitem__(self, key):\n",
    "        def get_interval(key):\n",
    "            return ((0 if key.start is None else key.start),\n",
    "                    (len(res) if key.stop is None else key.stop))\n",
    "\n",
    "        res = super().__getitem__(key)\n",
    "        if isinstance(key, int):\n",
    "            key = len(self) + key if key < 0 else key\n",
    "            return self.create(res, [self.taint[key]])\n",
    "        elif isinstance(key, slice):\n",
    "            if res:\n",
    "                return self.create(res, self.taint[key])\n",
    "            # Result is an empty string\n",
    "            t = self.create(res, self.taint[key])\n",
    "            key_start, key_stop = get_interval(key)\n",
    "            cursor = 0\n",
    "            if key_start < len(self):\n",
    "                assert key_stop < len(self)\n",
    "                cursor = self.taint[key_stop]\n",
    "            else:\n",
    "                if len(self) == 0:\n",
    "                    # if the original string was empty, we assume that any\n",
    "                    # empty string produced from it should carry the same\n",
    "                    # taint.\n",
    "                    cursor = self.x()\n",
    "                else:\n",
    "                    # Key start was not in the string. We can reply only\n",
    "                    # if the key start was just outside the string, in\n",
    "                    # which case, we guess.\n",
    "                    if key_start != len(self):\n",
    "                        raise tstr.TaintException('Can\\'t guess the taint')\n",
    "                    cursor = self.taint[len(self) - 1] + 1\n",
    "            # _tcursor gets created only for empty strings.\n",
    "            t._tcursor = cursor\n",
    "            return t\n",
    "\n",
    "        else:\n",
    "            assert False"
   ]
  },
  {
   "cell_type": "markdown",
   "metadata": {},
   "source": [
    "We add an additional method `t()` that takes in a taint index, and returns the taint at that index. If it is an empty string, it gives you a possible location of that empty string."
   ]
  },
  {
   "cell_type": "code",
   "execution_count": null,
   "metadata": {},
   "outputs": [],
   "source": [
    "class eoftstr(eoftstr):\n",
    "    def t(self, i=0):\n",
    "        if self.taint:\n",
    "            return self.taint[i]\n",
    "        else:\n",
    "            if i != 0:\n",
    "                raise tstr.TaintException('Invalid request idx')\n",
    "            # self._tcursor gets created only for empty strings.\n",
    "            # use the exception to determine which ones need it.\n",
    "            return self._tcursor"
   ]
  },
  {
   "cell_type": "code",
   "execution_count": null,
   "metadata": {},
   "outputs": [],
   "source": [
    "t = eoftstr('hello world')\n",
    "assert t[11:] == ''\n",
    "assert t[11:].t() == 11"
   ]
  },
  {
   "cell_type": "markdown",
   "metadata": {},
   "source": [
    "## A Comparison Tracker"
   ]
  },
  {
   "cell_type": "markdown",
   "metadata": {},
   "source": [
    "Sometimes, we also want to know what each character in an input was compared to."
   ]
  },
  {
   "cell_type": "markdown",
   "metadata": {},
   "source": [
    "### Operators"
   ]
  },
  {
   "cell_type": "code",
   "execution_count": null,
   "metadata": {},
   "outputs": [],
   "source": [
    "class Op(enum.Enum):\n",
    "    LT = 0\n",
    "    LE = enum.auto()\n",
    "    EQ = enum.auto()\n",
    "    NE = enum.auto()\n",
    "    GT = enum.auto()\n",
    "    GE = enum.auto()\n",
    "    IN = enum.auto()\n",
    "    NOT_IN = enum.auto()\n",
    "    IS = enum.auto()\n",
    "    IS_NOT = enum.auto()\n",
    "    FIND_STR = enum.auto()"
   ]
  },
  {
   "cell_type": "code",
   "execution_count": null,
   "metadata": {},
   "outputs": [],
   "source": [
    "COMPARE_OPERATORS = {\n",
    "    Op.EQ: lambda x, y: x == y,\n",
    "    Op.NE: lambda x, y: x != y,\n",
    "    Op.IN: lambda x, y: x in y,\n",
    "    Op.NOT_IN: lambda x, y: x not in y,\n",
    "    Op.FIND_STR: lambda x, y: x.find(y)\n",
    "}\n",
    "\n",
    "Comparisons = []"
   ]
  },
  {
   "cell_type": "markdown",
   "metadata": {},
   "source": [
    "### Instructions"
   ]
  },
  {
   "cell_type": "code",
   "execution_count": null,
   "metadata": {},
   "outputs": [],
   "source": [
    "class Instr:\n",
    "    def __init__(self, o, a, b):\n",
    "        self.opA = a\n",
    "        self.opB = b\n",
    "        self.op = o\n",
    "\n",
    "    def o(self):\n",
    "        if self.op == Op.EQ:\n",
    "            return 'eq'\n",
    "        elif self.op == Op.NE:\n",
    "            return 'ne'\n",
    "        else:\n",
    "            return '?'\n",
    "\n",
    "    def opS(self):\n",
    "        if not self.opA.has_taint() and isinstance(self.opB, tstr):\n",
    "            return (self.opB, self.opA)\n",
    "        else:\n",
    "            return (self.opA, self.opB)\n",
    "\n",
    "    @property\n",
    "    def op_A(self):\n",
    "        return self.opS()[0]\n",
    "\n",
    "    @property\n",
    "    def op_B(self):\n",
    "        return self.opS()[1]\n",
    "\n",
    "    def __repr__(self):\n",
    "        return \"%s,%s,%s\" % (self.o(), repr(self.opA), repr(self.opB))\n",
    "\n",
    "    def __str__(self):\n",
    "        if self.op == Op.EQ:\n",
    "            if str(self.opA) == str(self.opB):\n",
    "                return \"%s = %s\" % (repr(self.opA), repr(self.opB))\n",
    "            else:\n",
    "                return \"%s != %s\" % (repr(self.opA), repr(self.opB))\n",
    "        elif self.op == Op.NE:\n",
    "            if str(self.opA) == str(self.opB):\n",
    "                return \"%s = %s\" % (repr(self.opA), repr(self.opB))\n",
    "            else:\n",
    "                return \"%s != %s\" % (repr(self.opA), repr(self.opB))\n",
    "        elif self.op == Op.IN:\n",
    "            if str(self.opA) in str(self.opB):\n",
    "                return \"%s in %s\" % (repr(self.opA), repr(self.opB))\n",
    "            else:\n",
    "                return \"%s not in %s\" % (repr(self.opA), repr(self.opB))\n",
    "        elif self.op == Op.NOT_IN:\n",
    "            if str(self.opA) in str(self.opB):\n",
    "                return \"%s in %s\" % (repr(self.opA), repr(self.opB))\n",
    "            else:\n",
    "                return \"%s not in %s\" % (repr(self.opA), repr(self.opB))\n",
    "        else:\n",
    "            assert False"
   ]
  },
  {
   "cell_type": "markdown",
   "metadata": {},
   "source": [
    "### Equivalance"
   ]
  },
  {
   "cell_type": "code",
   "execution_count": null,
   "metadata": {},
   "outputs": [],
   "source": [
    "class ctstr(eoftstr):\n",
    "    def create(self, res, taint):\n",
    "        o = ctstr(res, taint, self)\n",
    "        o.comparisons = self.comparisons\n",
    "        return o\n",
    "\n",
    "    def with_comparisons(self, comparisons):\n",
    "        self.comparisons = comparisons\n",
    "        return self"
   ]
  },
  {
   "cell_type": "code",
   "execution_count": null,
   "metadata": {},
   "outputs": [],
   "source": [
    "class ctstr(ctstr):\n",
    "    def __eq__(self, other):\n",
    "        if len(self) == 0 and len(other) == 0:\n",
    "            self.comparisons.append(Instr(Op.EQ, self, other))\n",
    "            return True\n",
    "        elif len(self) == 0:\n",
    "            self.comparisons.append(Instr(Op.EQ, self, other[0]))\n",
    "            return False\n",
    "        elif len(other) == 0:\n",
    "            self.comparisons.append(Instr(Op.EQ, self[0], other))\n",
    "            return False\n",
    "        elif len(self) == 1 and len(other) == 1:\n",
    "            self.comparisons.append(Instr(Op.EQ, self, other))\n",
    "            return super().__eq__(other)\n",
    "        else:\n",
    "            if not self[0] == other[0]:\n",
    "                return False\n",
    "            return self[1:] == other[1:]"
   ]
  },
  {
   "cell_type": "code",
   "execution_count": null,
   "metadata": {},
   "outputs": [],
   "source": [
    "t = ctstr('hello world', taint=100).with_comparisons([])\n",
    "assert t.comparisons == []\n",
    "t == 'hello'\n",
    "for c in t.comparisons:\n",
    "    print(repr(c))"
   ]
  },
  {
   "cell_type": "code",
   "execution_count": null,
   "metadata": {},
   "outputs": [],
   "source": [
    "class ctstr(ctstr):\n",
    "    def __ne__(self, other):\n",
    "        return not self.__eq__(other)"
   ]
  },
  {
   "cell_type": "code",
   "execution_count": null,
   "metadata": {},
   "outputs": [],
   "source": [
    "t = ctstr('hello', taint=100).with_comparisons([])\n",
    "assert t.comparisons == []\n",
    "t != 'bye'\n",
    "for c in t.comparisons:\n",
    "    print(repr(c))"
   ]
  },
  {
   "cell_type": "code",
   "execution_count": null,
   "metadata": {},
   "outputs": [],
   "source": [
    "class ctstr(ctstr):\n",
    "    def __contains__(self, other):\n",
    "        self.comparisons.append(Instr(Op.IN, self, other))\n",
    "        return super().__contains__(other)"
   ]
  },
  {
   "cell_type": "code",
   "execution_count": null,
   "metadata": {},
   "outputs": [],
   "source": [
    "class ctstr(ctstr):\n",
    "    def find(self, sub, start=None, end=None):\n",
    "        if start is None:\n",
    "            start_val = 0\n",
    "        if end is None:\n",
    "            end_val = len(self)\n",
    "        self.comparisons.append(Instr(Op.IN, self[start_val:end_val], sub))\n",
    "        return super().find(sub, start, end)"
   ]
  },
  {
   "cell_type": "markdown",
   "metadata": {},
   "source": [
    "### In"
   ]
  },
  {
   "cell_type": "markdown",
   "metadata": {},
   "source": [
    "This requires some surgery on the module."
   ]
  },
  {
   "cell_type": "code",
   "execution_count": null,
   "metadata": {},
   "outputs": [],
   "source": [
    "def substrings(s, l):\n",
    "    for i in range(len(s) - (l - 1)):\n",
    "        yield s[i:i + l]"
   ]
  },
  {
   "cell_type": "code",
   "execution_count": null,
   "metadata": {},
   "outputs": [],
   "source": [
    "class ctstr(ctstr):\n",
    "    def in_(self, s):\n",
    "        # c in '0123456789'\n",
    "        # to\n",
    "        # __fn(c).in_('0123456789')\n",
    "        # ensure that all characters are compared\n",
    "        result = [self == c for c in substrings(s, len(self))]\n",
    "        return any(result)"
   ]
  },
  {
   "cell_type": "code",
   "execution_count": null,
   "metadata": {},
   "outputs": [],
   "source": [
    "def my_fn(c, s):\n",
    "    if (c in s):\n",
    "        return c\n",
    "    else:\n",
    "        return s"
   ]
  },
  {
   "cell_type": "code",
   "execution_count": null,
   "metadata": {},
   "outputs": [],
   "source": [
    "class __fn:\n",
    "    def __init__(self, s):\n",
    "        self.s = s\n",
    "\n",
    "    def in_(self, v):\n",
    "        if isinstance(self.s, ctstr):\n",
    "            return self.s.in_(v)\n",
    "        else:\n",
    "            return self.s in v"
   ]
  },
  {
   "cell_type": "code",
   "execution_count": null,
   "metadata": {},
   "outputs": [],
   "source": [
    "import ast\n",
    "import inspect"
   ]
  },
  {
   "cell_type": "markdown",
   "metadata": {},
   "source": [
    "#### Get the source code"
   ]
  },
  {
   "cell_type": "code",
   "execution_count": null,
   "metadata": {},
   "outputs": [],
   "source": [
    "class InRewrite(ast.NodeTransformer):\n",
    "    def visit_Compare(self, tree_node):\n",
    "        left = tree_node.left\n",
    "        if not tree_node.ops or not isinstance(tree_node.ops[0], ast.In):\n",
    "            return tree_node\n",
    "        mod_val = ast.Call(\n",
    "            func=ast.Attribute(\n",
    "                value=ast.Call(\n",
    "                    func=ast.Name(id='__fn', ctx=ast.Load()), args=[left], keywords=[]),\n",
    "                attr='in_',\n",
    "                ctx=left.ctx),\n",
    "            args=tree_node.comparators,\n",
    "            keywords=[])\n",
    "        return mod_val"
   ]
  },
  {
   "cell_type": "code",
   "execution_count": null,
   "metadata": {},
   "outputs": [],
   "source": [
    "def rewrite_in(fn):\n",
    "    fn_ast = ast.parse(inspect.getsource(fn))\n",
    "    return compile(ast.fix_missing_locations(\n",
    "        InRewrite().visit(fn_ast)), filename='', mode='exec')"
   ]
  },
  {
   "cell_type": "code",
   "execution_count": null,
   "metadata": {},
   "outputs": [],
   "source": [
    "my_new_fn = rewrite_in(my_fn)\n",
    "exec(my_new_fn)"
   ]
  },
  {
   "cell_type": "code",
   "execution_count": null,
   "metadata": {},
   "outputs": [],
   "source": [
    "abcd = 'ABCD'\n",
    "ct = ctstr('C').with_comparisons([])"
   ]
  },
  {
   "cell_type": "code",
   "execution_count": null,
   "metadata": {},
   "outputs": [],
   "source": [
    "assert ct.comparisons == []"
   ]
  },
  {
   "cell_type": "code",
   "execution_count": null,
   "metadata": {},
   "outputs": [],
   "source": [
    "v = my_fn(ct, abcd)"
   ]
  },
  {
   "cell_type": "code",
   "execution_count": null,
   "metadata": {},
   "outputs": [],
   "source": [
    "for c in ct.comparisons:\n",
    "    print(repr(c))"
   ]
  },
  {
   "cell_type": "markdown",
   "metadata": {
    "button": false,
    "new_sheet": true,
    "run_control": {
     "read_only": false
    }
   },
   "source": [
    "## Lessons Learned\n",
    "\n",
    "* One can track the information flow form input to the internals of a system."
   ]
  },
  {
   "cell_type": "markdown",
   "metadata": {
    "button": false,
    "new_sheet": false,
    "run_control": {
     "read_only": false
    }
   },
   "source": [
    "## Next Steps\n",
    "\n",
    "_Link to subsequent chapters (notebooks) here:_"
   ]
  },
  {
   "cell_type": "markdown",
   "metadata": {},
   "source": [
    "## Background\n",
    "\n",
    "\\cite{Lin2008}"
   ]
  },
  {
   "cell_type": "markdown",
   "metadata": {
    "button": false,
    "new_sheet": true,
    "run_control": {
     "read_only": false
    }
   },
   "source": [
    "## Exercises\n",
    "\n",
    "_Close the chapter with a few exercises such that people have things to do.  To make the solutions hidden (to be revealed by the user), have them start with_\n",
    "\n",
    "```markdown\n",
    "**Solution.**\n",
    "```\n",
    "\n",
    "_Your solution can then extend up to the next title (i.e., any markdown cell starting with `#`)._\n",
    "\n",
    "_Running `make metadata` will automatically add metadata to the cells such that the cells will be hidden by default, and can be uncovered by the user.  The button will be introduced above the solution._"
   ]
  },
  {
   "cell_type": "markdown",
   "metadata": {
    "button": false,
    "new_sheet": false,
    "run_control": {
     "read_only": false
    }
   },
   "source": [
    "### Exercise 1: _Title_\n",
    "\n",
    "_Text of the exercise_"
   ]
  },
  {
   "cell_type": "code",
   "execution_count": null,
   "metadata": {
    "cell_style": "center"
   },
   "outputs": [],
   "source": [
    "# Some code that is part of the exercise\n",
    "pass"
   ]
  },
  {
   "cell_type": "markdown",
   "metadata": {
    "solution2": "hidden",
    "solution2_first": true
   },
   "source": [
    "_Some more text for the exercise_"
   ]
  },
  {
   "cell_type": "markdown",
   "metadata": {
    "slideshow": {
     "slide_type": "skip"
    },
    "solution2": "hidden"
   },
   "source": [
    "**Solution.** _Some text for the solution_"
   ]
  },
  {
   "cell_type": "code",
   "execution_count": null,
   "metadata": {
    "cell_style": "split",
    "slideshow": {
     "slide_type": "skip"
    },
    "solution2": "hidden"
   },
   "outputs": [],
   "source": [
    "# Some code for the solution\n",
    "2 + 2"
   ]
  },
  {
   "cell_type": "markdown",
   "metadata": {
    "slideshow": {
     "slide_type": "skip"
    },
    "solution2": "hidden"
   },
   "source": [
    "_Some more text for the solution_"
   ]
  },
  {
   "cell_type": "markdown",
   "metadata": {
    "button": false,
    "new_sheet": false,
    "run_control": {
     "read_only": false
    },
    "solution": "hidden",
    "solution2": "hidden",
    "solution2_first": true,
    "solution_first": true
   },
   "source": [
    "### Exercise 2: _Title_\n",
    "\n",
    "_Text of the exercise_"
   ]
  },
  {
   "cell_type": "markdown",
   "metadata": {
    "button": false,
    "new_sheet": false,
    "run_control": {
     "read_only": false
    },
    "slideshow": {
     "slide_type": "skip"
    },
    "solution": "hidden",
    "solution2": "hidden"
   },
   "source": [
    "**Solution.** _Solution for the exercise_"
   ]
  }
 ],
 "metadata": {
  "ipub": {
   "bibliography": "fuzzingbook.bib",
   "toc": true
  },
  "kernelspec": {
   "display_name": "Python 3",
   "language": "python",
   "name": "python3"
  },
  "language_info": {
   "codemirror_mode": {
    "name": "ipython",
    "version": 3
   },
   "file_extension": ".py",
   "mimetype": "text/x-python",
   "name": "python",
   "nbconvert_exporter": "python",
   "pygments_lexer": "ipython3",
   "version": "3.6.6"
  },
  "toc": {
   "base_numbering": 1,
   "nav_menu": {},
   "number_sections": true,
   "sideBar": true,
   "skip_h1_title": true,
   "title_cell": "",
   "title_sidebar": "Contents",
   "toc_cell": false,
   "toc_position": {},
   "toc_section_display": true,
   "toc_window_display": true
  },
  "varInspector": {
   "cols": {
    "lenName": 16,
    "lenType": 16,
    "lenVar": 40
   },
   "kernels_config": {
    "python": {
     "delete_cmd_postfix": "",
     "delete_cmd_prefix": "del ",
     "library": "var_list.py",
     "varRefreshCmd": "print(var_dic_list())"
    },
    "r": {
     "delete_cmd_postfix": ") ",
     "delete_cmd_prefix": "rm(",
     "library": "var_list.r",
     "varRefreshCmd": "cat(var_dic_list()) "
    }
   },
   "types_to_exclude": [
    "module",
    "function",
    "builtin_function_or_method",
    "instance",
    "_Feature"
   ],
   "window_display": false
  }
 },
 "nbformat": 4,
 "nbformat_minor": 2
}
